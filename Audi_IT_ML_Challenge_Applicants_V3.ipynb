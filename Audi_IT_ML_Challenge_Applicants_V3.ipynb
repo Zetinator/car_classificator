{
 "cells": [
  {
   "cell_type": "markdown",
   "metadata": {
    "colab_type": "text",
    "id": "LLmffEhbZBal"
   },
   "source": [
    "# __Welcome to the AUDI Machine Learning Challenge!__"
   ]
  },
  {
   "cell_type": "markdown",
   "metadata": {
    "colab_type": "text",
    "id": "T45LsE70ZBaq"
   },
   "source": [
    "## General Information"
   ]
  },
  {
   "cell_type": "markdown",
   "metadata": {
    "colab_type": "text",
    "id": "Tvl_KFIKZBaw"
   },
   "source": [
    "This notebook provides you with some code to setup the classification problem and a raw skeleton of what we want you to do. There is no optimal solutions, there are many good answers.\n",
    "\n",
    "We are using the [Cars Dataset](http://ai.stanford.edu/~jkrause/cars/car_dataset.html) and want to classify images of cars into 196 categories of different models of cars (including Audi's!). \n",
    "\n",
    "This fine-grained classification problem is not as easy as MNIST or CIFAR10 - we are excited to see what you can come up with."
   ]
  },
  {
   "cell_type": "markdown",
   "metadata": {
    "colab_type": "text",
    "id": "H_GxKpWMZBaz"
   },
   "source": [
    "## How to work with this notebook\n",
    "\n",
    "Please follow the following rules when working with this notebook:\n",
    "\n",
    "\n",
    "1) Only use the dataset which is downloaded in Ch.1 and Ch.2. You are not allowed to use any other data source. \n",
    "\n",
    "2) Do not change the code in Ch.1 and Ch.2 \n",
    "\n",
    "3) Please answer all the questions\n",
    "\n",
    "4) This notebook requires an Ubuntu workstation with a GPU. If you do not have access to one, we recommend using the free [Google Colab](https://colab.research.google.com/) service."
   ]
  },
  {
   "cell_type": "markdown",
   "metadata": {
    "colab_type": "text",
    "id": "RedWmRnhZBa2"
   },
   "source": [
    "__First question__\n",
    "- Can you think of a real life use case where we could use a model trained on this dataset? \n",
    "- For your use case, what would be the best metric?"
   ]
  },
  {
   "cell_type": "markdown",
   "metadata": {
    "colab_type": "text",
    "id": "z8xfNcf0ZBa8"
   },
   "source": [
    "# Seutp project\n",
    "\n",
    "## (Optional for Google Colab) Upload the helper files to the project directory\n",
    "\n",
    "Upload the provided files to the project directory:\n",
    "\n",
    "- utils.py \n",
    "- idx2classes.json\n",
    "- example.jpg\n",
    "- inference.py \n",
    "\n",
    "Navigate to the *Files* tab on the righthand side and click the *Upload* dialogue.\n",
    "\n",
    "## Download the necessary files  \n",
    "\n",
    "**Important: You must not change the following lines of code**\n",
    "\n",
    "Just run the code below. It should download the data and put it into the folder './data/'. This can take 5-10 minutes depending on your connection."
   ]
  },
  {
   "cell_type": "code",
   "execution_count": 3,
   "metadata": {
    "colab": {},
    "colab_type": "code",
    "id": "9j-qoSzKZBa-"
   },
   "outputs": [],
   "source": [
    "# Create the identification hash for your submission \n",
    "\n",
    "import hashlib\n",
    "import glob\n",
    "submission_hash = hashlib.md5().hexdigest()\n",
    "is_hash = glob.glob(\"./hash.txt\")\n",
    "if len(is_hash)==0:\n",
    "    with open(\"./hash.txt\", \"w\") as f:\n",
    "        f.write(submission_hash)"
   ]
  },
  {
   "cell_type": "code",
   "execution_count": 4,
   "metadata": {
    "ExecuteTime": {
     "end_time": "2018-01-25T09:40:47.898206Z",
     "start_time": "2018-01-25T09:36:23.634294Z"
    },
    "colab": {
     "base_uri": "https://localhost:8080/",
     "height": 34
    },
    "colab_type": "code",
    "id": "2LENd3yjZBbH",
    "outputId": "e7d9ed98-273b-4610-90cb-e10947e824a5"
   },
   "outputs": [
    {
     "name": "stdout",
     "output_type": "stream",
     "text": [
      "Finished downloading files\n"
     ]
    }
   ],
   "source": [
    "from IPython.display import clear_output\n",
    "\n",
    "!wget http://imagenet.stanford.edu/internal/car196/cars_train.tgz\n",
    "!wget http://ai.stanford.edu/~jkrause/cars/car_devkit.tgz\n",
    "!wget http://imagenet.stanford.edu/internal/car196/cars_annos.mat\n",
    "\n",
    "!mkdir data\n",
    "!tar -xvzf ./cars_train.tgz -C ./data/\n",
    "!rm -r ./cars_train.tgz\n",
    "!tar -xvzf ./car_devkit.tgz -C ./data/\n",
    "!rm -r ./car_devkit.tgz\n",
    "clear_output()\n",
    "print(\"Finished downloading files\")"
   ]
  },
  {
   "cell_type": "markdown",
   "metadata": {
    "colab_type": "text",
    "heading_collapsed": true,
    "id": "hcK0c8CuZBbW"
   },
   "source": [
    "## Prepare the Dataset\n",
    "Run this cell to create the dataset. The training data you should use will loceted in: `./data/data_in_class_folder`"
   ]
  },
  {
   "cell_type": "code",
   "execution_count": 1,
   "metadata": {
    "ExecuteTime": {
     "end_time": "2018-01-25T09:40:48.298436Z",
     "start_time": "2018-01-25T09:40:47.901067Z"
    },
    "colab": {
     "base_uri": "https://localhost:8080/",
     "height": 1000
    },
    "colab_type": "code",
    "hidden": true,
    "id": "I6CW1ZUmZBbY",
    "outputId": "7aa3b55d-e545-4045-8a17-71810223550a",
    "scrolled": false
   },
   "outputs": [
    {
     "name": "stdout",
     "output_type": "stream",
     "text": [
      "creating folder AM General Hummer SUV 2000\n",
      "creating folder Acura RL Sedan 2012\n",
      "creating folder Acura TL Sedan 2012\n",
      "creating folder Acura TL Type-S 2008\n",
      "creating folder Acura TSX Sedan 2012\n",
      "creating folder Acura Integra Type R 2001\n",
      "creating folder Acura ZDX Hatchback 2012\n",
      "creating folder Aston Martin V8 Vantage Convertible 2012\n",
      "creating folder Aston Martin V8 Vantage Coupe 2012\n",
      "creating folder Aston Martin Virage Convertible 2012\n",
      "creating folder Aston Martin Virage Coupe 2012\n",
      "creating folder Audi RS 4 Convertible 2008\n",
      "creating folder Audi A5 Coupe 2012\n",
      "creating folder Audi TTS Coupe 2012\n",
      "creating folder Audi R8 Coupe 2012\n",
      "creating folder Audi V8 Sedan 1994\n",
      "creating folder Audi 100 Sedan 1994\n",
      "creating folder Audi 100 Wagon 1994\n",
      "creating folder Audi TT Hatchback 2011\n",
      "creating folder Audi S6 Sedan 2011\n",
      "creating folder Audi S5 Convertible 2012\n",
      "creating folder Audi S5 Coupe 2012\n",
      "creating folder Audi S4 Sedan 2012\n",
      "creating folder Audi S4 Sedan 2007\n",
      "creating folder Audi TT RS Coupe 2012\n",
      "creating folder BMW ActiveHybrid 5 Sedan 2012\n",
      "creating folder BMW 1 Series Convertible 2012\n",
      "creating folder BMW 1 Series Coupe 2012\n",
      "creating folder BMW 3 Series Sedan 2012\n",
      "creating folder BMW 3 Series Wagon 2012\n",
      "creating folder BMW 6 Series Convertible 2007\n",
      "creating folder BMW X5 SUV 2007\n",
      "creating folder BMW X6 SUV 2012\n",
      "creating folder BMW M3 Coupe 2012\n",
      "creating folder BMW M5 Sedan 2010\n",
      "creating folder BMW M6 Convertible 2010\n",
      "creating folder BMW X3 SUV 2012\n",
      "creating folder BMW Z4 Convertible 2012\n",
      "creating folder Bentley Continental Supersports Conv. Convertible 2012\n",
      "creating folder Bentley Arnage Sedan 2009\n",
      "creating folder Bentley Mulsanne Sedan 2011\n",
      "creating folder Bentley Continental GT Coupe 2012\n",
      "creating folder Bentley Continental GT Coupe 2007\n",
      "creating folder Bentley Continental Flying Spur Sedan 2007\n",
      "creating folder Bugatti Veyron 16.4 Convertible 2009\n",
      "creating folder Bugatti Veyron 16.4 Coupe 2009\n",
      "creating folder Buick Regal GS 2012\n",
      "creating folder Buick Rainier SUV 2007\n",
      "creating folder Buick Verano Sedan 2012\n",
      "creating folder Buick Enclave SUV 2012\n",
      "creating folder Cadillac CTS-V Sedan 2012\n",
      "creating folder Cadillac SRX SUV 2012\n",
      "creating folder Cadillac Escalade EXT Crew Cab 2007\n",
      "creating folder Chevrolet Silverado 1500 Hybrid Crew Cab 2012\n",
      "creating folder Chevrolet Corvette Convertible 2012\n",
      "creating folder Chevrolet Corvette ZR1 2012\n",
      "creating folder Chevrolet Corvette Ron Fellows Edition Z06 2007\n",
      "creating folder Chevrolet Traverse SUV 2012\n",
      "creating folder Chevrolet Camaro Convertible 2012\n",
      "creating folder Chevrolet HHR SS 2010\n",
      "creating folder Chevrolet Impala Sedan 2007\n",
      "creating folder Chevrolet Tahoe Hybrid SUV 2012\n",
      "creating folder Chevrolet Sonic Sedan 2012\n",
      "creating folder Chevrolet Express Cargo Van 2007\n",
      "creating folder Chevrolet Avalanche Crew Cab 2012\n",
      "creating folder Chevrolet Cobalt SS 2010\n",
      "creating folder Chevrolet Malibu Hybrid Sedan 2010\n",
      "creating folder Chevrolet TrailBlazer SS 2009\n",
      "creating folder Chevrolet Silverado 2500HD Regular Cab 2012\n",
      "creating folder Chevrolet Silverado 1500 Classic Extended Cab 2007\n",
      "creating folder Chevrolet Express Van 2007\n",
      "creating folder Chevrolet Monte Carlo Coupe 2007\n",
      "creating folder Chevrolet Malibu Sedan 2007\n",
      "creating folder Chevrolet Silverado 1500 Extended Cab 2012\n",
      "creating folder Chevrolet Silverado 1500 Regular Cab 2012\n",
      "creating folder Chrysler Aspen SUV 2009\n",
      "creating folder Chrysler Sebring Convertible 2010\n",
      "creating folder Chrysler Town and Country Minivan 2012\n",
      "creating folder Chrysler 300 SRT-8 2010\n",
      "creating folder Chrysler Crossfire Convertible 2008\n",
      "creating folder Chrysler PT Cruiser Convertible 2008\n",
      "creating folder Daewoo Nubira Wagon 2002\n",
      "creating folder Dodge Caliber Wagon 2012\n",
      "creating folder Dodge Caliber Wagon 2007\n",
      "creating folder Dodge Caravan Minivan 1997\n",
      "creating folder Dodge Ram Pickup 3500 Crew Cab 2010\n",
      "creating folder Dodge Ram Pickup 3500 Quad Cab 2009\n",
      "creating folder Dodge Sprinter Cargo Van 2009\n",
      "creating folder Dodge Journey SUV 2012\n",
      "creating folder Dodge Dakota Crew Cab 2010\n",
      "creating folder Dodge Dakota Club Cab 2007\n",
      "creating folder Dodge Magnum Wagon 2008\n",
      "creating folder Dodge Challenger SRT8 2011\n",
      "creating folder Dodge Durango SUV 2012\n",
      "creating folder Dodge Durango SUV 2007\n",
      "creating folder Dodge Charger Sedan 2012\n",
      "creating folder Dodge Charger SRT-8 2009\n",
      "creating folder Eagle Talon Hatchback 1998\n",
      "creating folder FIAT 500 Abarth 2012\n",
      "creating folder FIAT 500 Convertible 2012\n",
      "creating folder Ferrari FF Coupe 2012\n",
      "creating folder Ferrari California Convertible 2012\n",
      "creating folder Ferrari 458 Italia Convertible 2012\n",
      "creating folder Ferrari 458 Italia Coupe 2012\n",
      "creating folder Fisker Karma Sedan 2012\n",
      "creating folder Ford F-450 Super Duty Crew Cab 2012\n",
      "creating folder Ford Mustang Convertible 2007\n",
      "creating folder Ford Freestar Minivan 2007\n",
      "creating folder Ford Expedition EL SUV 2009\n",
      "creating folder Ford Edge SUV 2012\n",
      "creating folder Ford Ranger SuperCab 2011\n",
      "creating folder Ford GT Coupe 2006\n",
      "creating folder Ford F-150 Regular Cab 2012\n",
      "creating folder Ford F-150 Regular Cab 2007\n",
      "creating folder Ford Focus Sedan 2007\n",
      "creating folder Ford E-Series Wagon Van 2012\n",
      "creating folder Ford Fiesta Sedan 2012\n",
      "creating folder GMC Terrain SUV 2012\n",
      "creating folder GMC Savana Van 2012\n",
      "creating folder GMC Yukon Hybrid SUV 2012\n",
      "creating folder GMC Acadia SUV 2012\n",
      "creating folder GMC Canyon Extended Cab 2012\n",
      "creating folder Geo Metro Convertible 1993\n",
      "creating folder HUMMER H3T Crew Cab 2010\n",
      "creating folder HUMMER H2 SUT Crew Cab 2009\n",
      "creating folder Honda Odyssey Minivan 2012\n",
      "creating folder Honda Odyssey Minivan 2007\n",
      "creating folder Honda Accord Coupe 2012\n",
      "creating folder Honda Accord Sedan 2012\n",
      "creating folder Hyundai Veloster Hatchback 2012\n",
      "creating folder Hyundai Santa Fe SUV 2012\n",
      "creating folder Hyundai Tucson SUV 2012\n",
      "creating folder Hyundai Veracruz SUV 2012\n",
      "creating folder Hyundai Sonata Hybrid Sedan 2012\n",
      "creating folder Hyundai Elantra Sedan 2007\n",
      "creating folder Hyundai Accent Sedan 2012\n",
      "creating folder Hyundai Genesis Sedan 2012\n",
      "creating folder Hyundai Sonata Sedan 2012\n",
      "creating folder Hyundai Elantra Touring Hatchback 2012\n",
      "creating folder Hyundai Azera Sedan 2012\n",
      "creating folder Infiniti G Coupe IPL 2012\n",
      "creating folder Infiniti QX56 SUV 2011\n",
      "creating folder Isuzu Ascender SUV 2008\n",
      "creating folder Jaguar XK XKR 2012\n",
      "creating folder Jeep Patriot SUV 2012\n",
      "creating folder Jeep Wrangler SUV 2012\n",
      "creating folder Jeep Liberty SUV 2012\n",
      "creating folder Jeep Grand Cherokee SUV 2012\n",
      "creating folder Jeep Compass SUV 2012\n",
      "creating folder Lamborghini Reventon Coupe 2008\n",
      "creating folder Lamborghini Aventador Coupe 2012\n",
      "creating folder Lamborghini Gallardo LP 570-4 Superleggera 2012\n",
      "creating folder Lamborghini Diablo Coupe 2001\n",
      "creating folder Land Rover Range Rover SUV 2012\n",
      "creating folder Land Rover LR2 SUV 2012\n",
      "creating folder Lincoln Town Car Sedan 2011\n",
      "creating folder MINI Cooper Roadster Convertible 2012\n",
      "creating folder Maybach Landaulet Convertible 2012\n",
      "creating folder Mazda Tribute SUV 2011\n",
      "creating folder McLaren MP4-12C Coupe 2012\n",
      "creating folder Mercedes-Benz 300-Class Convertible 1993\n",
      "creating folder Mercedes-Benz C-Class Sedan 2012\n",
      "creating folder Mercedes-Benz SL-Class Coupe 2009\n",
      "creating folder Mercedes-Benz E-Class Sedan 2012\n",
      "creating folder Mercedes-Benz S-Class Sedan 2012\n",
      "creating folder Mercedes-Benz Sprinter Van 2012\n",
      "creating folder Mitsubishi Lancer Sedan 2012\n",
      "creating folder Nissan Leaf Hatchback 2012\n",
      "creating folder Nissan NV Passenger Van 2012\n",
      "creating folder Nissan Juke Hatchback 2012\n",
      "creating folder Nissan 240SX Coupe 1998\n",
      "creating folder Plymouth Neon Coupe 1999\n",
      "creating folder Porsche Panamera Sedan 2012\n",
      "creating folder Ram C/V Cargo Van Minivan 2012\n",
      "creating folder Rolls-Royce Phantom Drophead Coupe Convertible 2012\n",
      "creating folder Rolls-Royce Ghost Sedan 2012\n",
      "creating folder Rolls-Royce Phantom Sedan 2012\n",
      "creating folder Scion xD Hatchback 2012\n",
      "creating folder Spyker C8 Convertible 2009\n",
      "creating folder Spyker C8 Coupe 2009\n",
      "creating folder Suzuki Aerio Sedan 2007\n",
      "creating folder Suzuki Kizashi Sedan 2012\n",
      "creating folder Suzuki SX4 Hatchback 2012\n",
      "creating folder Suzuki SX4 Sedan 2012\n",
      "creating folder Tesla Model S Sedan 2012\n",
      "creating folder Toyota Sequoia SUV 2012\n",
      "creating folder Toyota Camry Sedan 2012\n",
      "creating folder Toyota Corolla Sedan 2012\n",
      "creating folder Toyota 4Runner SUV 2012\n",
      "creating folder Volkswagen Golf Hatchback 2012\n",
      "creating folder Volkswagen Golf Hatchback 1991\n",
      "creating folder Volkswagen Beetle Hatchback 2012\n",
      "creating folder Volvo C30 Hatchback 2012\n",
      "creating folder Volvo 240 Sedan 1993\n",
      "creating folder Volvo XC90 SUV 2007\n",
      "creating folder smart fortwo Convertible 2012\n"
     ]
    }
   ],
   "source": [
    "from utils import create_dataset\n",
    "create_dataset()"
   ]
  },
  {
   "cell_type": "markdown",
   "metadata": {
    "colab_type": "text",
    "id": "1qaa_-tcZBbd"
   },
   "source": [
    "# Train a car classifier\n",
    "\n",
    "Now it is your turn. Show us how you are tackeling this problem - Good luck! "
   ]
  },
  {
   "cell_type": "markdown",
   "metadata": {
    "colab_type": "text",
    "id": "u6wwmdgl31z0"
   },
   "source": []
  },
  {
   "cell_type": "markdown",
   "metadata": {
    "colab_type": "text",
    "id": "NOOHZ8fIZBbf"
   },
   "source": [
    "## Exploration\n",
    "\n",
    "Your first task is to explore the provided training data. The goal here is to explore the data with e.g. statistics and plots. \n",
    "\n",
    "*Remember:* Before training a classifier it is usually a good idea to get to know your training data!"
   ]
  },
  {
   "cell_type": "code",
   "execution_count": 0,
   "metadata": {
    "colab": {},
    "colab_type": "code",
    "id": "cvaPs17ZZBbh"
   },
   "outputs": [],
   "source": [
    "# Insert your exploration code and graphs here"
   ]
  },
  {
   "cell_type": "markdown",
   "metadata": {
    "colab_type": "text",
    "id": "oDsjsXDsZBbn"
   },
   "source": [
    "## Modelling\n",
    "As we told you in the beginning, we want to classify the images into the 196 different car model classes. Choose a suitable model and train the best classifier you can come up with!\n",
    "\n",
    "**Requirements**\n",
    "\n",
    "- Use the data placed in `data_in_class_folder` for training.\n",
    "- The network should be trained with PyTorch. Please do not use pytorch wrappers like FastAI. You are encouraged to established architectures and pretrained weights. \n",
    "- **Visualize your training**: You can create custom graphs displaying training / validation loss and metrics. We prefer tensorboard, though. Don't forget to include your tensorboard logs in your submission.\n",
    "- The notebook should include a **summary of your model performance** (loss ...) \n",
    "- **Save the checkpoint** of your best model in `best_checkpoint.pth`\n"
   ]
  },
  {
   "cell_type": "code",
   "execution_count": 0,
   "metadata": {
    "colab": {},
    "colab_type": "code",
    "id": "BkIZ8g-KZBbp"
   },
   "outputs": [],
   "source": [
    "# Insert your code to train a classifier"
   ]
  },
  {
   "cell_type": "markdown",
   "metadata": {
    "colab_type": "text",
    "id": "zWMBHBKuZBbu"
   },
   "source": [
    "# Evaluation & Outlook\n",
    "\n",
    "After finishing your training take a look at your out of sample predictions and analyse strengths and weeknesses of your model. \n",
    "\n",
    "Try to answer crucial questions here! \n",
    "\n",
    "- which car models get often mixed up? \n",
    "- What are good visualization and metrics to evaluate your model?\n",
    "- What could be the next steps to further improve the model?"
   ]
  },
  {
   "cell_type": "markdown",
   "metadata": {
    "colab_type": "text",
    "id": "LqOTT5avZBbv"
   },
   "source": [
    "# Create an Inference class to make predictions on new pictures\n",
    "Now that you have finished training your model you should implement a small function to use it. Head over to `inference.py` and finish the provided sceleton class.\n",
    "\n",
    "Your function should be initialized and used the following:\n",
    "\n",
    "```python\n",
    "from inference import CarClassifier\n",
    "classifier = CarClassifier()\n",
    "classifier.predict(\"example.jpg\")\n",
    "```\n",
    "\n",
    "The output should be a string with the correct class. E.g: `Audi R8 Coupe 2012` \n"
   ]
  },
  {
   "cell_type": "code",
   "execution_count": 4,
   "metadata": {
    "colab": {
     "base_uri": "https://localhost:8080/",
     "height": 356
    },
    "colab_type": "code",
    "id": "0qVSNL5cZBbw",
    "outputId": "7ef6a09a-31f8-4fa0-842c-80169f7c3681"
   },
   "outputs": [
    {
     "ename": "NameError",
     "evalue": "ignored",
     "output_type": "error",
     "traceback": [
      "\u001b[0;31m---------------------------------------------------------------------------\u001b[0m",
      "\u001b[0;31mNameError\u001b[0m                                 Traceback (most recent call last)",
      "\u001b[0;32m<ipython-input-4-43c0c64dc8bb>\u001b[0m in \u001b[0;36m<module>\u001b[0;34m()\u001b[0m\n\u001b[1;32m      1\u001b[0m \u001b[0;34m\u001b[0m\u001b[0m\n\u001b[0;32m----> 2\u001b[0;31m \u001b[0;32mfrom\u001b[0m \u001b[0minference\u001b[0m \u001b[0;32mimport\u001b[0m \u001b[0mCarClassifier\u001b[0m\u001b[0;34m\u001b[0m\u001b[0;34m\u001b[0m\u001b[0m\n\u001b[0m\u001b[1;32m      3\u001b[0m \u001b[0mclassifier\u001b[0m \u001b[0;34m=\u001b[0m \u001b[0mCarClassifier\u001b[0m\u001b[0;34m(\u001b[0m\u001b[0;34m)\u001b[0m\u001b[0;34m\u001b[0m\u001b[0;34m\u001b[0m\u001b[0m\n\u001b[1;32m      4\u001b[0m \u001b[0;34m\u001b[0m\u001b[0m\n\u001b[1;32m      5\u001b[0m \u001b[0mimage_file\u001b[0m \u001b[0;34m=\u001b[0m \u001b[0;34m\"example.jpg\"\u001b[0m\u001b[0;34m\u001b[0m\u001b[0;34m\u001b[0m\u001b[0m\n",
      "\u001b[0;32m/content/inference.py\u001b[0m in \u001b[0;36m<module>\u001b[0;34m()\u001b[0m\n\u001b[1;32m      7\u001b[0m \u001b[0;34m\u001b[0m\u001b[0m\n\u001b[1;32m      8\u001b[0m \u001b[0;34m\u001b[0m\u001b[0m\n\u001b[0;32m----> 9\u001b[0;31m \u001b[0mtest_transforms\u001b[0m \u001b[0;34m=\u001b[0m \u001b[0mtransforms\u001b[0m\u001b[0;34m.\u001b[0m\u001b[0mCompose\u001b[0m\u001b[0;34m(\u001b[0m\u001b[0;34m[\u001b[0m\u001b[0mtransforms\u001b[0m\u001b[0;34m.\u001b[0m\u001b[0mResize\u001b[0m\u001b[0;34m(\u001b[0m\u001b[0;36m230\u001b[0m\u001b[0;34m)\u001b[0m\u001b[0;34m,\u001b[0m\u001b[0mtransforms\u001b[0m\u001b[0;34m.\u001b[0m\u001b[0mCenterCrop\u001b[0m\u001b[0;34m(\u001b[0m\u001b[0;36m224\u001b[0m\u001b[0;34m)\u001b[0m\u001b[0;34m,\u001b[0m \u001b[0mtransforms\u001b[0m\u001b[0;34m.\u001b[0m\u001b[0mToTensor\u001b[0m\u001b[0;34m(\u001b[0m\u001b[0;34m)\u001b[0m\u001b[0;34m]\u001b[0m\u001b[0;34m)\u001b[0m\u001b[0;34m\u001b[0m\u001b[0;34m\u001b[0m\u001b[0m\n\u001b[0m\u001b[1;32m     10\u001b[0m \u001b[0;34m\u001b[0m\u001b[0m\n\u001b[1;32m     11\u001b[0m \u001b[0;34m\u001b[0m\u001b[0m\n",
      "\u001b[0;31mNameError\u001b[0m: name 'transforms' is not defined"
     ]
    }
   ],
   "source": [
    "# Run the following cell to test your inference class.\n",
    "\n",
    "from inference import CarClassifier\n",
    "classifier = CarClassifier()\n",
    "\n",
    "image_file = \"example.jpg\"\n",
    "prediction = classifier.predict(image_file)\n",
    "print(\"You predicted {} for image {}\".format(prediction, image_file))\n",
    "if type(prediction) == str:\n",
    "    print(\"...seems like your classifier is working as expected...\")"
   ]
  },
  {
   "cell_type": "markdown",
   "metadata": {
    "colab_type": "text",
    "id": "04EVh0y8ZBb1"
   },
   "source": [
    "# Prepare your submission "
   ]
  },
  {
   "cell_type": "code",
   "execution_count": 0,
   "metadata": {
    "colab": {
     "base_uri": "https://localhost:8080/",
     "height": 34
    },
    "colab_type": "code",
    "id": "xIg0q4KbZBb3",
    "outputId": "fd4a9ed2-ca3a-4ea0-a2a0-1e5baa429886"
   },
   "outputs": [
    {
     "name": "stdout",
     "output_type": "stream",
     "text": [
      "Please upload yor submission as d41d8cd98f00b204e9800998ecf8427e.zip as outlined below.\n"
     ]
    }
   ],
   "source": [
    "# Run this cell to get your submission file name\n",
    "with open(\"./hash.txt\",\"r\") as f:\n",
    "    submission_hash = f.read()\n",
    "print(\"Please upload yor submission as {}.zip as outlined below.\".format(submission_hash))"
   ]
  },
  {
   "cell_type": "markdown",
   "metadata": {
    "colab_type": "text",
    "id": "67iW_QoIZBb9"
   },
   "source": [
    "Please submit your solution until **XX.XX.XX**\n",
    "\n",
    "**Requirements**:\n",
    "\n",
    "1) Create a zip file `<submission_hash>.zip` (run the cell above to get your filename)\n",
    "\n",
    "2) All of the following files have to be included: \n",
    "\n",
    "- `Audi IT-ML-Challenge-Applicants.ipynb` and `Audi IT-ML-Challenge-Applicants.html` (exported HTML Notebook)\n",
    "- `inference.py`: Your inference class from Ch. 5\n",
    "-  If you used Tensorboard for training visualization: directory named `runs` including the training summary of your best model\n",
    "- `model.pth`: Checkpoint to your trained classifier\n",
    "\n",
    "*Please do not include the data directory or any other files!*\n",
    "\n",
    "3) Upload your compressed submission [here](https://collaboration.msi.audi.com/seafile/u/d/475b5c823a3b47aa83eb/)\n",
    "\n",
    "4) **Send us the name (hash) of your submission zip file afterwards as an email.** "
   ]
  }
 ],
 "metadata": {
  "colab": {
   "collapsed_sections": [],
   "name": "Audi IT-ML-Challenge-Applicants_V3.ipynb",
   "provenance": [],
   "toc_visible": true
  },
  "kernelspec": {
   "display_name": "Python 3",
   "language": "python",
   "name": "python3"
  },
  "language_info": {
   "codemirror_mode": {
    "name": "ipython",
    "version": 3
   },
   "file_extension": ".py",
   "mimetype": "text/x-python",
   "name": "python",
   "nbconvert_exporter": "python",
   "pygments_lexer": "ipython3",
   "version": "3.7.6"
  },
  "toc": {
   "base_numbering": 1,
   "nav_menu": {
    "height": "253px",
    "width": "254px"
   },
   "number_sections": true,
   "sideBar": true,
   "skip_h1_title": false,
   "title_cell": "Table of Contents",
   "title_sidebar": "Contents",
   "toc_cell": false,
   "toc_position": {},
   "toc_section_display": "block",
   "toc_window_display": false
  }
 },
 "nbformat": 4,
 "nbformat_minor": 1
}
